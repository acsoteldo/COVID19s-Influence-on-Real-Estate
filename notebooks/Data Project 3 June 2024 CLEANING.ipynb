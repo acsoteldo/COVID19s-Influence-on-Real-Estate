{
 "cells": [
  {
   "cell_type": "code",
   "execution_count": 4,
   "id": "3af70387",
   "metadata": {},
   "outputs": [],
   "source": [
    "import pandas as pd\n",
    "import glob\n",
    "csv_files = glob.glob(\"data/*.csv\")"
   ]
  },
  {
   "cell_type": "code",
   "execution_count": 5,
   "id": "13e8e297",
   "metadata": {},
   "outputs": [
    {
     "name": "stdout",
     "output_type": "stream",
     "text": [
      "Successfully cleaned and saved data/2018-property-sales-data.csv to data/2018-property-sales-data_CLEANED.csv\n",
      "Successfully cleaned and saved data/2022-property-sales-data.csv to data/2022-property-sales-data_CLEANED.csv\n",
      "Successfully cleaned and saved data/2021-property-sales-data.csv to data/2021-property-sales-data_CLEANED.csv\n",
      "Successfully cleaned and saved data/2019-property-sales-data.csv to data/2019-property-sales-data_CLEANED.csv\n",
      "Successfully cleaned and saved data/2020-property-sales-data.csv to data/2020-property-sales-data_CLEANED.csv\n"
     ]
    }
   ],
   "source": [
    "def clean_data(data):\n",
    "    data_cleaned = data.fillna(\"Unknown\")\n",
    "    data_cleaned = data_cleaned.drop_duplicates()\n",
    "    \n",
    "    if 'Taxkey' in data_cleaned.columns:\n",
    "        data_cleaned = data_cleaned.drop(columns=['Taxkey'])\n",
    "    \n",
    "    return data_cleaned\n",
    "\n",
    "# Process each file\n",
    "for file_path in csv_files:\n",
    "    try:\n",
    "        data = pd.read_csv(file_path)\n",
    "        \n",
    "        data_cleaned = clean_data(data)\n",
    "        \n",
    "        output_file_path = file_path.replace('.csv', '_CLEANED.csv')\n",
    "        \n",
    "        # Save the cleaned data to a new CSV file\n",
    "        data_cleaned.to_csv(output_file_path, index=False)\n",
    "        \n",
    "        print(f\"Successfully cleaned and saved {file_path} to {output_file_path}\")\n",
    "    except Exception as e:\n",
    "        print(f\"Error processing file {file_path}: {e}\")"
   ]
  },
  {
   "cell_type": "code",
   "execution_count": null,
   "id": "94fbdb77",
   "metadata": {},
   "outputs": [],
   "source": []
  }
 ],
 "metadata": {
  "kernelspec": {
   "display_name": "Python 3 (ipykernel)",
   "language": "python",
   "name": "python3"
  },
  "language_info": {
   "codemirror_mode": {
    "name": "ipython",
    "version": 3
   },
   "file_extension": ".py",
   "mimetype": "text/x-python",
   "name": "python",
   "nbconvert_exporter": "python",
   "pygments_lexer": "ipython3",
   "version": "3.9.5"
  }
 },
 "nbformat": 4,
 "nbformat_minor": 5
}
